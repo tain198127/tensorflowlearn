{
 "cells": [
  {
   "cell_type": "code",
   "execution_count": null,
   "id": "a86568d5",
   "metadata": {},
   "outputs": [],
   "source": [
    "import pandas as pd\n",
    "# 2D绘图工具\n",
    "import matplotlib as mplot\n",
    "# 2D高阶绘图工具\n",
    "import seaborn as sns\n",
    "# 设置格式\n",
    "sns.set(context=\"notebook\",style=\"whitegrid\",palette=\"dark\")\n",
    "# 3D绘图工具\n",
    "import mpl_toolkits.mplot3d as mplot3d\n",
    "import matplotlib.pyplot as plt\n",
    "import numpy as np\n",
    "import tensorflow.compat.v1 as tf\n",
    "tf.compat.v1.disable_eager_execution()\n"
   ]
  }
 ],
 "metadata": {
  "kernelspec": {
   "display_name": "env-3.9.2",
   "language": "python",
   "name": "env-3.9.2"
  },
  "language_info": {
   "codemirror_mode": {
    "name": "ipython",
    "version": 3
   },
   "file_extension": ".py",
   "mimetype": "text/x-python",
   "name": "python",
   "nbconvert_exporter": "python",
   "pygments_lexer": "ipython3",
   "version": "3.9.2"
  }
 },
 "nbformat": 4,
 "nbformat_minor": 5
}
