{
 "cells": [
  {
   "cell_type": "code",
   "execution_count": 8,
   "metadata": {
    "collapsed": true,
    "pycharm": {
     "name": "#%%\n"
    }
   },
   "outputs": [
    {
     "data": {
      "text/plain": "13.0"
     },
     "execution_count": 8,
     "metadata": {},
     "output_type": "execute_result"
    }
   ],
   "source": [
    "def add(*vectors):\n",
    "    by_coordinate = zip(*vectors)\n",
    "    coordinate_sums = [sum(coords) for coords in by_coordinate]\n",
    "    return tuple(coordinate_sums)\n",
    "\n",
    "list(zip(*[(1,1,3),(2,4,-4),(4,2,-2)]))\n",
    "[sum(coords) for coords in [(1, 2, 4), (1, 4, 2), (3, -4, -2)]]\n",
    "def add(*vectors):\n",
    "    return tuple(map(sum,zip(*vectors)))\n",
    "from math import sqrt\n",
    "def length(v):\n",
    "    return sqrt(sum([coord ** 2 for coord in v]))\n",
    "length((3,4,12))"
   ]
  },
  {
   "cell_type": "code",
   "execution_count": 4,
   "outputs": [],
   "source": [],
   "metadata": {
    "collapsed": false,
    "pycharm": {
     "name": "#%%\n"
    }
   }
  },
  {
   "cell_type": "code",
   "execution_count": null,
   "outputs": [],
   "source": [],
   "metadata": {
    "collapsed": false,
    "pycharm": {
     "name": "#%%\n"
    }
   }
  }
 ],
 "metadata": {
  "kernelspec": {
   "display_name": "Python 3",
   "language": "python",
   "name": "python3"
  },
  "language_info": {
   "codemirror_mode": {
    "name": "ipython",
    "version": 2
   },
   "file_extension": ".py",
   "mimetype": "text/x-python",
   "name": "python",
   "nbconvert_exporter": "python",
   "pygments_lexer": "ipython2",
   "version": "2.7.6"
  }
 },
 "nbformat": 4,
 "nbformat_minor": 0
}