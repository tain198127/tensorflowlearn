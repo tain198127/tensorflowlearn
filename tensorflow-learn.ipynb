{
 "cells": [
  {
   "cell_type": "code",
   "execution_count": 60,
   "metadata": {},
   "outputs": [
    {
     "data": {
      "text/plain": [
       "[<tf.Variable 'Variable_36:0' shape=() dtype=string_ref>,\n",
       " <tf.Variable 'Variable_37:0' shape=() dtype=float32_ref>,\n",
       " <tf.Variable 'Variable_38:0' shape=(2,) dtype=float32_ref>,\n",
       " <tf.Variable 'Variable_39:0' shape=(2,) dtype=float32_ref>]"
      ]
     },
     "execution_count": 60,
     "metadata": {},
     "output_type": "execute_result"
    }
   ],
   "source": [
    "import tensorflow.compat.v1 as tf\n",
    "tf.disable_v2_behavior()\n",
    "nammal = tf.Variable(\"Elephant\",tf.string)\n",
    "floating=tf.Variable(1.001128343,tf.float64)\n",
    "dim=tf.Variable([1.001128343,2.000],tf.float64)\n",
    "liner=tf.Variable([1.2222,2.2343],tf.float64)\n",
    "dim.assign(dim + 1.0)\n",
    "dim.assign_add([1.0,1.1])\n",
    "\n",
    "\n",
    "[nammal,floating,dim,liner]"
   ]
  },
  {
   "cell_type": "code",
   "execution_count": 61,
   "metadata": {},
   "outputs": [
    {
     "name": "stdout",
     "output_type": "stream",
     "text": [
      "6.0\n"
     ]
    }
   ],
   "source": [
    "x=tf.placeholder(tf.float32,name='x')\n",
    "y=tf.placeholder(tf.float32,name='y')\n",
    "z=tf.multiply(x,y,name='z')\n",
    "sess = tf.Session()\n",
    "print(sess.run(z,feed_dict={x:3.0,y:2.0}))"
   ]
  },
  {
   "cell_type": "code",
   "execution_count": 64,
   "metadata": {},
   "outputs": [
    {
     "name": "stdout",
     "output_type": "stream",
     "text": [
      "9.0\n"
     ]
    }
   ],
   "source": [
    "xx = tf.placeholder(tf.float32,name='xx')\n",
    "W = tf.Variable(2.0)\n",
    "b = tf.Variable(1.0)\n",
    "yy = W *xx +b\n",
    "with tf.Session() as ss:\n",
    "    tf.global_variables_initializer().run()\n",
    "    fetch = yy.eval(feed_dict={xx:4.0})\n",
    "    print(fetch)\n"
   ]
  },
  {
   "cell_type": "code",
   "execution_count": null,
   "metadata": {},
   "outputs": [],
   "source": []
  }
 ],
 "metadata": {
  "kernelspec": {
   "display_name": "Python 3",
   "language": "python",
   "name": "python3"
  },
  "language_info": {
   "codemirror_mode": {
    "name": "ipython",
    "version": 3
   },
   "file_extension": ".py",
   "mimetype": "text/x-python",
   "name": "python",
   "nbconvert_exporter": "python",
   "pygments_lexer": "ipython3",
   "version": "3.7.4"
  }
 },
 "nbformat": 4,
 "nbformat_minor": 2
}
