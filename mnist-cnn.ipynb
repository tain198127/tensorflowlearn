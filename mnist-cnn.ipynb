{
 "cells": [
  {
   "cell_type": "code",
   "execution_count": 3,
   "metadata": {
    "collapsed": true
   },
   "outputs": [
    {
     "name": "stdout",
     "output_type": "stream",
     "text": [
      "WARNING:tensorflow:From /Users/baodan/.pyenv/versions/env-3.9.2/lib/python3.9/site-packages/tensorflow/python/compat/v2_compat.py:107: disable_resource_variables (from tensorflow.python.ops.variable_scope) is deprecated and will be removed in a future version.\n",
      "Instructions for updating:\n",
      "non-resource variables are not supported in the long term\n",
      "(60000, 28, 28) (60000,)\n",
      "(10000, 28, 28) (10000,)\n"
     ]
    },
    {
     "data": {
      "text/plain": "((array([[[0, 0, 0, ..., 0, 0, 0],\n          [0, 0, 0, ..., 0, 0, 0],\n          [0, 0, 0, ..., 0, 0, 0],\n          ...,\n          [0, 0, 0, ..., 0, 0, 0],\n          [0, 0, 0, ..., 0, 0, 0],\n          [0, 0, 0, ..., 0, 0, 0]],\n  \n         [[0, 0, 0, ..., 0, 0, 0],\n          [0, 0, 0, ..., 0, 0, 0],\n          [0, 0, 0, ..., 0, 0, 0],\n          ...,\n          [0, 0, 0, ..., 0, 0, 0],\n          [0, 0, 0, ..., 0, 0, 0],\n          [0, 0, 0, ..., 0, 0, 0]],\n  \n         [[0, 0, 0, ..., 0, 0, 0],\n          [0, 0, 0, ..., 0, 0, 0],\n          [0, 0, 0, ..., 0, 0, 0],\n          ...,\n          [0, 0, 0, ..., 0, 0, 0],\n          [0, 0, 0, ..., 0, 0, 0],\n          [0, 0, 0, ..., 0, 0, 0]],\n  \n         ...,\n  \n         [[0, 0, 0, ..., 0, 0, 0],\n          [0, 0, 0, ..., 0, 0, 0],\n          [0, 0, 0, ..., 0, 0, 0],\n          ...,\n          [0, 0, 0, ..., 0, 0, 0],\n          [0, 0, 0, ..., 0, 0, 0],\n          [0, 0, 0, ..., 0, 0, 0]],\n  \n         [[0, 0, 0, ..., 0, 0, 0],\n          [0, 0, 0, ..., 0, 0, 0],\n          [0, 0, 0, ..., 0, 0, 0],\n          ...,\n          [0, 0, 0, ..., 0, 0, 0],\n          [0, 0, 0, ..., 0, 0, 0],\n          [0, 0, 0, ..., 0, 0, 0]],\n  \n         [[0, 0, 0, ..., 0, 0, 0],\n          [0, 0, 0, ..., 0, 0, 0],\n          [0, 0, 0, ..., 0, 0, 0],\n          ...,\n          [0, 0, 0, ..., 0, 0, 0],\n          [0, 0, 0, ..., 0, 0, 0],\n          [0, 0, 0, ..., 0, 0, 0]]], dtype=uint8),\n  array([9, 0, 0, ..., 3, 0, 5], dtype=uint8)),\n (array([[[0, 0, 0, ..., 0, 0, 0],\n          [0, 0, 0, ..., 0, 0, 0],\n          [0, 0, 0, ..., 0, 0, 0],\n          ...,\n          [0, 0, 0, ..., 0, 0, 0],\n          [0, 0, 0, ..., 0, 0, 0],\n          [0, 0, 0, ..., 0, 0, 0]],\n  \n         [[0, 0, 0, ..., 0, 0, 0],\n          [0, 0, 0, ..., 0, 0, 0],\n          [0, 0, 0, ..., 0, 0, 0],\n          ...,\n          [0, 0, 0, ..., 0, 0, 0],\n          [0, 0, 0, ..., 0, 0, 0],\n          [0, 0, 0, ..., 0, 0, 0]],\n  \n         [[0, 0, 0, ..., 0, 0, 0],\n          [0, 0, 0, ..., 0, 0, 0],\n          [0, 0, 0, ..., 0, 0, 0],\n          ...,\n          [0, 0, 0, ..., 0, 0, 0],\n          [0, 0, 0, ..., 0, 0, 0],\n          [0, 0, 0, ..., 0, 0, 0]],\n  \n         ...,\n  \n         [[0, 0, 0, ..., 0, 0, 0],\n          [0, 0, 0, ..., 0, 0, 0],\n          [0, 0, 0, ..., 0, 0, 0],\n          ...,\n          [0, 0, 0, ..., 0, 0, 0],\n          [0, 0, 0, ..., 0, 0, 0],\n          [0, 0, 0, ..., 0, 0, 0]],\n  \n         [[0, 0, 0, ..., 0, 0, 0],\n          [0, 0, 0, ..., 0, 0, 0],\n          [0, 0, 0, ..., 0, 0, 0],\n          ...,\n          [0, 0, 0, ..., 0, 0, 0],\n          [0, 0, 0, ..., 0, 0, 0],\n          [0, 0, 0, ..., 0, 0, 0]],\n  \n         [[0, 0, 0, ..., 0, 0, 0],\n          [0, 0, 0, ..., 0, 0, 0],\n          [0, 0, 0, ..., 0, 0, 0],\n          ...,\n          [0, 0, 0, ..., 0, 0, 0],\n          [0, 0, 0, ..., 0, 0, 0],\n          [0, 0, 0, ..., 0, 0, 0]]], dtype=uint8),\n  array([9, 2, 1, ..., 8, 1, 5], dtype=uint8)))"
     },
     "execution_count": 3,
     "metadata": {},
     "output_type": "execute_result"
    }
   ],
   "source": [
    "import tensorflow.compat.v1 as tf\n",
    "# (x_train,y_train),(x_test,y_test)=tf.keras.datasets.mnist.load_data(path='MNIST/mnist.npz')\n",
    "(x_train,y_train),(x_test,y_test)=tf.keras.datasets.fashion_mnist.load_data()\n",
    "print(x_train.shape,y_train.shape)\n",
    "print(x_test.shape,y_test.shape)\n",
    "tf.keras.datasets.fashion_mnist.load_data()"
   ]
  },
  {
   "cell_type": "markdown",
   "source": [
    "## 数据规范化-cnn准备"
   ],
   "metadata": {
    "collapsed": false
   }
  },
  {
   "cell_type": "code",
   "execution_count": 4,
   "outputs": [
    {
     "name": "stdout",
     "output_type": "stream",
     "text": [
      "(60000, 28, 28, 1) <class 'numpy.ndarray'>\n",
      "(10000, 28, 28, 1) <class 'numpy.ndarray'>\n"
     ]
    }
   ],
   "source": [
    "from keras import backend as K\n",
    "img_rows, img_cols = 28,28\n",
    "if K.image_data_format() == 'channels_first':\n",
    "    x_train = x_train.reshape(x_train.shape[0],1,img_rows,img_cols)\n",
    "    x_test=x_test.reshape(x_test.shape[0],1,img_rows,img_cols)\n",
    "    input_shape = (1,img_rows,img_cols)\n",
    "else:\n",
    "    x_train=x_train.reshape(x_train.shape[0],img_rows,img_cols,1)\n",
    "    x_test=x_test.reshape(x_test.shape[0],img_rows,img_cols,1)\n",
    "    input_shape = (img_rows,img_cols,1)\n",
    "print(x_train.shape,type(x_train))\n",
    "print(x_test.shape,type(x_test))"
   ],
   "metadata": {
    "collapsed": false
   }
  },
  {
   "cell_type": "markdown",
   "source": [
    "## 进行归一化"
   ],
   "metadata": {
    "collapsed": false
   }
  },
  {
   "cell_type": "code",
   "execution_count": 4,
   "outputs": [],
   "source": [],
   "metadata": {
    "collapsed": false
   }
  },
  {
   "cell_type": "code",
   "execution_count": 5,
   "outputs": [
    {
     "name": "stdout",
     "output_type": "stream",
     "text": [
      "train samples :60000\n",
      "test samples :10000\n"
     ]
    }
   ],
   "source": [
    "X1_train = x_train.astype('float32')\n",
    "X1_test = x_test.astype('float32')\n",
    "X1_train /= 255\n",
    "X1_test /=255\n",
    "print('train samples :{}'.format(X1_train.shape[0]))\n",
    "print('test samples :{}'.format(X1_test.shape[0]))"
   ],
   "metadata": {
    "collapsed": false
   }
  },
  {
   "cell_type": "markdown",
   "source": [
    "## 数据统计"
   ],
   "metadata": {
    "collapsed": false
   }
  },
  {
   "cell_type": "code",
   "execution_count": 6,
   "outputs": [
    {
     "name": "stdout",
     "output_type": "stream",
     "text": [
      "[0 1 2 3 4 5 6 7 8 9] [6000 6000 6000 6000 6000 6000 6000 6000 6000 6000]\n"
     ]
    },
    {
     "data": {
      "text/plain": "<Figure size 640x480 with 1 Axes>",
      "image/png": "[encoded data removed]"
     },
     "metadata": {},
     "output_type": "display_data"
    }
   ],
   "source": [
    "import numpy as np\n",
    "import matplotlib.pyplot as plt\n",
    "label,count = np.unique(y_train,return_counts=True)\n",
    "print(label,count)\n",
    "fig=plt.figure()\n",
    "plt.bar(label,count,width=0.7,align=\"center\")\n",
    "plt.xlabel(\"label\")\n",
    "plt.ylabel(\"Count\")\n",
    "plt.xticks(label)\n",
    "plt.ylim(0,7500)\n",
    "\n",
    "for a,b in zip(label,count):\n",
    "    plt.text(a,b,'%d' % b, ha=\"center\",va=\"bottom\",fontsize=10)\n",
    "plt.show()"
   ],
   "metadata": {
    "collapsed": false
   }
  },
  {
   "cell_type": "markdown",
   "source": [
    "## one-hot编码"
   ],
   "metadata": {
    "collapsed": false
   }
  },
  {
   "cell_type": "code",
   "execution_count": 7,
   "outputs": [
    {
     "name": "stdout",
     "output_type": "stream",
     "text": [
      "before one-hot:  (60000,)\n",
      "after one-hot encoding:  (60000, 10)\n"
     ]
    }
   ],
   "source": [
    "from keras.utils import np_utils\n",
    "n_class = 10\n",
    "print(\"before one-hot: \",y_train.shape)\n",
    "Y_train = np_utils.to_categorical(y_train,n_class)\n",
    "print(\"after one-hot encoding: \", Y_train.shape)\n",
    "Y_test = np_utils.to_categorical(y_test,n_class)"
   ],
   "metadata": {
    "collapsed": false
   }
  },
  {
   "cell_type": "markdown",
   "source": [
    "## 使用sequential model定义mnist cnn网络"
   ],
   "metadata": {
    "collapsed": false
   }
  },
  {
   "cell_type": "code",
   "execution_count": 13,
   "outputs": [
    {
     "name": "stdout",
     "output_type": "stream",
     "text": [
      "Model: \"Sequential\"\n",
      "_________________________________________________________________\n",
      " Layer (type)                Output Shape              Param #   \n",
      "=================================================================\n",
      " FirstConv2D (Conv2D)        (None, 26, 26, 32)        320       \n",
      "                                                                 \n",
      " SecodeConv2D (Conv2D)       (None, 24, 24, 64)        18496     \n",
      "                                                                 \n",
      " FirstMaxPool2D (MaxPooling2  (None, 12, 12, 64)       0         \n",
      " D)                                                              \n",
      "                                                                 \n",
      " FirstDropout_25 (Dropout)   (None, 12, 12, 64)        0         \n",
      "                                                                 \n",
      " FirstFlatten (Flatten)      (None, 9216)              0         \n",
      "                                                                 \n",
      " FirstDenseRelu (Dense)      (None, 128)               1179776   \n",
      "                                                                 \n",
      " SecodeDropout50 (Dropout)   (None, 128)               0         \n",
      "                                                                 \n",
      " SecondDense_Softmax (Dense)  (None, 10)               1290      \n",
      "                                                                 \n",
      "=================================================================\n",
      "Total params: 1,199,882\n",
      "Trainable params: 1,199,882\n",
      "Non-trainable params: 0\n",
      "_________________________________________________________________\n",
      "[None, 26, 26, 32]\n",
      "[None, 24, 24, 64]\n",
      "[None, 12, 12, 64]\n",
      "[None, 12, 12, 64]\n",
      "[None, 9216]\n",
      "[None, 128]\n",
      "[None, 128]\n",
      "[None, 10]\n"
     ]
    }
   ],
   "source": [
    "from keras.models import Sequential\n",
    "from keras.layers import Dense,Dropout,Flatten\n",
    "from keras.layers import Conv2D,MaxPool2D\n",
    "\n",
    "\n",
    "model = Sequential(name='Sequential')\n",
    "# 从这里开始，都是在做特征提取\n",
    "#第一层卷积，32个3*3的卷积核，激活函数用relu\n",
    "\n",
    "model.add(Conv2D(filters=32,kernel_size=(3,3),activation='relu',input_shape=input_shape,name='FirstConv2D'))\n",
    "#第二层卷积，64个3*3的卷积核，激活函数用relu\n",
    "\n",
    "model.add(Conv2D(filters=64,kernel_size=(3,3),activation='relu',name='SecodeConv2D'))\n",
    "\n",
    "# 增加池化，池化窗口2*2\n",
    "model.add(MaxPool2D(pool_size=(2,2),name='FirstMaxPool2D'))\n",
    "#dropout 25%的输入神经元，每次训练的时候，要去掉25%的神经元\n",
    "model.add(Dropout(0.25,name='FirstDropout_25'))\n",
    "\n",
    "# 将pooled feature map 全都摊平以后，全连接网络\n",
    "model.add(Flatten(name='FirstFlatten'))\n",
    "# 从这里以上都是在做特征提取\n",
    "\n",
    "# 这里才是在做分类\n",
    "\n",
    "# 全连接层\n",
    "model.add(Dense(128,activation='relu',name='FirstDenseRelu'))\n",
    "\n",
    "# 再dropout掉50%的输入神经元\n",
    "model.add(Dropout(0.5,name='SecodeDropout50'))\n",
    "# 使用softmax激活函数做分类，输出各数字的概率\n",
    "\n",
    "model.add(Dense(n_class,activation='softmax',name='SecondDense_Softmax'))\n",
    "model.summary()\n",
    "for layer in model.layers:\n",
    "    print(layer.get_output_at(0).get_shape().as_list())"
   ],
   "metadata": {
    "collapsed": false
   }
  },
  {
   "cell_type": "markdown",
   "source": [
    "## 编译模型"
   ],
   "metadata": {
    "collapsed": false
   }
  },
  {
   "cell_type": "code",
   "execution_count": 9,
   "outputs": [
    {
     "name": "stdout",
     "output_type": "stream",
     "text": [
      "Train on 60000 samples, validate on 10000 samples\n",
      "Epoch 1/5\n"
     ]
    },
    {
     "name": "stderr",
     "output_type": "stream",
     "text": [
      "2023-01-25 01:38:14.869179: I tensorflow/compiler/mlir/mlir_graph_optimization_pass.cc:357] MLIR V1 optimization pass is not enabled\n",
      "2023-01-25 01:38:14.871157: W tensorflow/tsl/platform/profile_utils/cpu_utils.cc:128] Failed to get CPU frequency: 0 Hz\n",
      "2023-01-25 01:38:14.882624: W tensorflow/c/c_api.cc:291] Operation '{name:'training/Adam/SecondDense_Softmax/kernel/v/Assign' id:448 op device:{requested: '', assigned: ''} def:{{{node training/Adam/SecondDense_Softmax/kernel/v/Assign}} = AssignVariableOp[_has_manual_control_dependencies=true, dtype=DT_FLOAT, validate_shape=false](training/Adam/SecondDense_Softmax/kernel/v, training/Adam/SecondDense_Softmax/kernel/v/Initializer/zeros)}}' was changed by setting attribute after it was run by a session. This mutation will have no effect, and will trigger an error in the future. Either don't modify nodes after running them or create a new session.\n",
      "/Users/baodan/.pyenv/versions/env-3.9.2/lib/python3.9/site-packages/keras/engine/training_v1.py:2333: UserWarning: `Model.state_updates` will be removed in a future version. This property should not be used in TensorFlow 2.0, as `updates` are applied automatically.\n",
      "  updates = self.state_updates\n",
      "2023-01-25 01:38:34.782112: W tensorflow/c/c_api.cc:291] Operation '{name:'loss/mul' id:199 op device:{requested: '', assigned: ''} def:{{{node loss/mul}} = Mul[T=DT_FLOAT, _has_manual_control_dependencies=true](loss/mul/x, loss/SecondDense_Softmax_loss/value)}}' was changed by setting attribute after it was run by a session. This mutation will have no effect, and will trigger an error in the future. Either don't modify nodes after running them or create a new session.\n"
     ]
    },
    {
     "name": "stdout",
     "output_type": "stream",
     "text": [
      "60000/60000 - 21s - loss: 0.5366 - acc: 0.8109 - val_loss: 0.3351 - val_acc: 0.8762 - 21s/epoch - 345us/sample\n",
      "Epoch 2/5\n",
      "60000/60000 - 21s - loss: 0.3454 - acc: 0.8779 - val_loss: 0.2840 - val_acc: 0.8985 - 21s/epoch - 355us/sample\n",
      "Epoch 3/5\n",
      "60000/60000 - 23s - loss: 0.2992 - acc: 0.8923 - val_loss: 0.2630 - val_acc: 0.9021 - 23s/epoch - 377us/sample\n",
      "Epoch 4/5\n",
      "60000/60000 - 21s - loss: 0.2691 - acc: 0.9028 - val_loss: 0.2422 - val_acc: 0.9091 - 21s/epoch - 346us/sample\n",
      "Epoch 5/5\n",
      "60000/60000 - 21s - loss: 0.2451 - acc: 0.9105 - val_loss: 0.2397 - val_acc: 0.9150 - 21s/epoch - 342us/sample\n"
     ]
    }
   ],
   "source": [
    "# with tf.Session() as sess:\n",
    "    # sess.run(tf.global_variables_initializer())\n",
    "model.compile(loss=tf.keras.losses.categorical_crossentropy,metrics=['accuracy'],optimizer='adam')\n",
    "history=model.fit(X1_train,Y_train,batch_size=128,epochs=5,verbose=2,validation_data=(X1_test,Y_test))\n",
    "    # writer = tf.summary.FileWriter('./summary/keras-mnist-cnn-1',sess.graph)\n",
    "# writer.close()"
   ],
   "metadata": {
    "collapsed": false
   }
  },
  {
   "cell_type": "markdown",
   "source": [
    "## 可视化模型"
   ],
   "metadata": {
    "collapsed": false
   }
  },
  {
   "cell_type": "code",
   "execution_count": 10,
   "outputs": [
    {
     "data": {
      "text/plain": "<Figure size 640x480 with 2 Axes>",
      "image/png": "[encoded data removed]"
     },
     "metadata": {},
     "output_type": "display_data"
    }
   ],
   "source": [
    "fig = plt.figure()\n",
    "plt.subplot(2,1,1)\n",
    "plt.plot(history.history['accuracy'])\n",
    "plt.plot(history.history['val_accuracy'])\n",
    "plt.title('Model Accuracy')\n",
    "plt.xlabel('epoch')\n",
    "plt.ylabel('accuracy')\n",
    "plt.legend(['train','test'],loc='lower right')\n",
    "\n",
    "plt.subplot(2,1,2)\n",
    "plt.plot(history.history['loss'])\n",
    "plt.plot(history.history['val_loss'])\n",
    "plt.title('Model loss')\n",
    "plt.xlabel('epoch')\n",
    "plt.ylabel('loss')\n",
    "plt.legend(['train','test'],loc=\"upper right\")\n",
    "plt.tight_layout()\n",
    "plt.show()"
   ],
   "metadata": {
    "collapsed": false
   }
  },
  {
   "cell_type": "markdown",
   "source": [
    "## 保存模型"
   ],
   "metadata": {
    "collapsed": false
   }
  },
  {
   "cell_type": "code",
   "execution_count": 11,
   "outputs": [],
   "source": [
    "import os\n",
    "import tensorflow.compat.v1.gfile as gfile\n",
    "from keras.utils.vis_utils import plot_model\n",
    "plot_model(model,to_file=\"./summary/keras-mnist-cnn-2.png\",show_shapes=True)\n",
    "tf.compat.v1.disable_eager_execution()\n",
    "save_dir='./FASHION-MNIST/model-cnn/'\n",
    "if gfile.Exists(save_dir):\n",
    "    gfile.DeleteRecursively(save_dir)\n",
    "gfile.MakeDirs(save_dir)\n",
    "model_name='keras_mnist_cnn.h5'\n",
    "model_path=os.path.join(save_dir,model_name)\n",
    "model.save(model_path)"
   ],
   "metadata": {
    "collapsed": false
   }
  },
  {
   "cell_type": "markdown",
   "source": [
    "## 重新加载模型，并进行分类"
   ],
   "metadata": {
    "collapsed": false
   }
  },
  {
   "cell_type": "code",
   "execution_count": 12,
   "outputs": [
    {
     "name": "stdout",
     "output_type": "stream",
     "text": [
      "WARNING:tensorflow:From /Users/baodan/.pyenv/versions/env-3.9.2/lib/python3.9/site-packages/tensorflow/python/ops/init_ops.py:93: calling GlorotUniform.__init__ (from tensorflow.python.ops.init_ops) with dtype is deprecated and will be removed in a future version.\n",
      "Instructions for updating:\n",
      "Call initializer instance with the dtype argument instead of passing it to the constructor\n",
      "WARNING:tensorflow:From /Users/baodan/.pyenv/versions/env-3.9.2/lib/python3.9/site-packages/tensorflow/python/ops/init_ops.py:93: calling Zeros.__init__ (from tensorflow.python.ops.init_ops) with dtype is deprecated and will be removed in a future version.\n",
      "Instructions for updating:\n",
      "Call initializer instance with the dtype argument instead of passing it to the constructor\n"
     ]
    },
    {
     "name": "stderr",
     "output_type": "stream",
     "text": [
      "2023-01-25 01:40:11.648564: W tensorflow/c/c_api.cc:291] Operation '{name:'SecondDense_Softmax_1/bias/Assign' id:652 op device:{requested: '', assigned: ''} def:{{{node SecondDense_Softmax_1/bias/Assign}} = AssignVariableOp[_has_manual_control_dependencies=true, dtype=DT_FLOAT, validate_shape=false](SecondDense_Softmax_1/bias, SecondDense_Softmax_1/bias/Initializer/zeros)}}' was changed by setting attribute after it was run by a session. This mutation will have no effect, and will trigger an error in the future. Either don't modify nodes after running them or create a new session.\n",
      "2023-01-25 01:40:11.750422: W tensorflow/c/c_api.cc:291] Operation '{name:'decay/Assign' id:786 op device:{requested: '', assigned: ''} def:{{{node decay/Assign}} = AssignVariableOp[_has_manual_control_dependencies=true, dtype=DT_FLOAT, validate_shape=false](decay, decay/Initializer/initial_value)}}' was changed by setting attribute after it was run by a session. This mutation will have no effect, and will trigger an error in the future. Either don't modify nodes after running them or create a new session.\n",
      "2023-01-25 01:40:11.824670: W tensorflow/c/c_api.cc:291] Operation '{name:'loss_1/mul' id:767 op device:{requested: '', assigned: ''} def:{{{node loss_1/mul}} = Mul[T=DT_FLOAT, _has_manual_control_dependencies=true](loss_1/mul/x, loss_1/SecondDense_Softmax_loss/value)}}' was changed by setting attribute after it was run by a session. This mutation will have no effect, and will trigger an error in the future. Either don't modify nodes after running them or create a new session.\n"
     ]
    },
    {
     "name": "stdout",
     "output_type": "stream",
     "text": [
      "Test loss is:0.23966252633929253% \n",
      "\n",
      "Test accuracy is :91.50000214576721% \n",
      "\n"
     ]
    },
    {
     "name": "stderr",
     "output_type": "stream",
     "text": [
      "/Users/baodan/.pyenv/versions/env-3.9.2/lib/python3.9/site-packages/keras/engine/training_v1.py:2357: UserWarning: `Model.state_updates` will be removed in a future version. This property should not be used in TensorFlow 2.0, as `updates` are applied automatically.\n",
      "  updates=self.state_updates,\n",
      "2023-01-25 01:40:12.833356: W tensorflow/c/c_api.cc:291] Operation '{name:'SecondDense_Softmax_1/Softmax' id:658 op device:{requested: '', assigned: ''} def:{{{node SecondDense_Softmax_1/Softmax}} = Softmax[T=DT_FLOAT, _has_manual_control_dependencies=true](SecondDense_Softmax_1/BiasAdd)}}' was changed by setting attribute after it was run by a session. This mutation will have no effect, and will trigger an error in the future. Either don't modify nodes after running them or create a new session.\n"
     ]
    },
    {
     "name": "stdout",
     "output_type": "stream",
     "text": [
      "Classified correctly count: 96678\n",
      "Classified incorrectly count: 3322\n"
     ]
    }
   ],
   "source": [
    "from keras.models import load_model\n",
    "mnist_model = load_model(model_path)\n",
    "loss_and_metrics = mnist_model.evaluate(X1_test,Y_test,verbose=2)\n",
    "print(\"Test loss is:{}% \\n\".format(loss_and_metrics[0]))\n",
    "print(\"Test accuracy is :{}% \\n\".format(loss_and_metrics[1]*100))\n",
    "\n",
    "predicted_class = mnist_model.predict(x_test)\n",
    "correct_indices = np.nonzero(predicted_class)[0]==y_test[0]\n",
    "incorrect_indices = np.nonzero(predicted_class)[0]!=y_test[0]\n",
    "print('Classified correctly count: {}'.format(len(correct_indices)))\n",
    "print(\"Classified incorrectly count: {}\".format(len(incorrect_indices)))"
   ],
   "metadata": {
    "collapsed": false
   }
  },
  {
   "cell_type": "code",
   "execution_count": null,
   "outputs": [],
   "source": [],
   "metadata": {
    "collapsed": false
   }
  }
 ],
 "metadata": {
  "kernelspec": {
   "name": "env-3.9.2",
   "language": "python",
   "display_name": "env-3.9.2"
  },
  "language_info": {
   "codemirror_mode": {
    "name": "ipython",
    "version": 2
   },
   "file_extension": ".py",
   "mimetype": "text/x-python",
   "name": "python",
   "nbconvert_exporter": "python",
   "pygments_lexer": "ipython2",
   "version": "2.7.6"
  }
 },
 "nbformat": 4,
 "nbformat_minor": 0
}
